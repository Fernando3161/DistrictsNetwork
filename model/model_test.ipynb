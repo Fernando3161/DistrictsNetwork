{
 "cells": [
  {
   "cell_type": "code",
   "execution_count": 3,
   "metadata": {},
   "outputs": [],
   "source": [
    "import pandas as pd\n",
    "from oemof.solph import (EnergySystem, Bus, Sink, Source, Flow,\n",
    "                         Transformer, GenericStorage)\n",
    "from oemof.solph import views, processing\n",
    "import matplotlib.pyplot as plt\n",
    "import logging\n",
    "from enum import Enum\n",
    "import os\n",
    "from os.path import join\n",
    "import json\n",
    "import warnings\n",
    "from electricity_markets.market_price_generator import create_markets_info\n",
    "import set_config\n",
    "warnings.simplefilter(action='ignore', category=FutureWarning)\n",
    "logging.basicConfig(level=logging.INFO)"
   ]
  },
  {
   "cell_type": "code",
   "execution_count": 4,
   "metadata": {},
   "outputs": [
    {
     "name": "stderr",
     "output_type": "stream",
     "text": [
      "INFO:root:DA Price pattern for the year 2019 created\n",
      "INFO:root:ID Price pattern for the year 2019 created\n",
      "INFO:root:Electricity market prices (DA,ID,FB,FP) for 2019 created\n"
     ]
    },
    {
     "data": {
      "image/png": "[encoded data removed]",
      "text/plain": [
       "<Figure size 432x288 with 1 Axes>"
      ]
     },
     "metadata": {
      "needs_background": "light"
     },
     "output_type": "display_data"
    }
   ],
   "source": [
    " # Get market data as per the price generator\n",
    "year= 2019\n",
    "days = 365\n",
    "market_data = create_markets_info(\n",
    "    year=year, save_csv=False,).head(\n",
    "    days * 24 * 4)\n",
    "market_data.plot()\n",
    "from common import Districts\n",
    "district = Districts.ENAQ\n",
    "config = set_config.set_configuration(district= district)\n",
    "district_name = district.value[\"name\"]"
   ]
  },
  {
   "cell_type": "code",
   "execution_count": 11,
   "metadata": {},
   "outputs": [],
   "source": [
    "# build the model\n",
    "# since the models have all the same configuration, the naming of the labels will need to have a naming convention\n",
    "# b = bus\n",
    "# s = sink\n",
    "# g = source/grid\n",
    "#example\n",
    "# b_th_enaq\n",
    "label = district_name.lower()\n",
    "def mlabel(txt):\n",
    "    return f\"{txt}_{label}\"\n",
    "\n",
    "energy_system = EnergySystem(timeindex=config[\"datetime\"])\n",
    "\n",
    "# first need a \"general electric bus\"\n",
    "b_el_distr = Bus(label=mlabel(\"b_el_distr\"))\n",
    "\n",
    "# electric supply bus\n",
    "b_d_el = Bus(label=mlabel(\"b_d_el\"),\n",
    "                inputs={b_el_distr: Flow()})\n",
    "\n",
    "# this bus is to exchange energy with other districts:\n",
    "\n",
    "b_el_exch = Bus(label=mlabel(\"b_el_exch\"),\n",
    "                inputs={b_el_distr: Flow()})\n",
    "\n",
    "                 \n",
    "# add district demands\n",
    "d_el = Sink(label=mlabel(\"d_el\"),\n",
    "            inputs={\n",
    "                b_d_el: Flow(\n",
    "                    fix=config[\"el_demand\"][\"profile\"],\n",
    "                    nominal_value=1\n",
    "                )})\n",
    "energy_system.add(b_el_distr, b_d_el, b_el_exch, d_el)\n",
    "\n",
    "\n"
   ]
  },
  {
   "cell_type": "code",
   "execution_count": 12,
   "metadata": {},
   "outputs": [],
   "source": [
    "\n",
    "# add heat bus and district demand\n",
    "b_d_th = Bus(label=mlabel(\"b_d_th\"))\n",
    "# add district demands\n",
    "\n",
    "b_th_distr = Bus(label=mlabel(\"b_th_distr\"), outputs={b_d_th: Flow()})\n",
    "s_th = Sink(label=mlabel(\"d_th\"),\n",
    "            inputs={\n",
    "                b_d_th: Flow(\n",
    "                    fix=config[\"heat_demand\"][\"profile\"],\n",
    "                    nominal_value=1\n",
    "                )})\n",
    "energy_system.add(b_d_th,b_th_distr,s_th)\n"
   ]
  },
  {
   "cell_type": "code",
   "execution_count": 13,
   "metadata": {},
   "outputs": [],
   "source": [
    "\n",
    "# bus for selling electricity to the markets\n",
    "# and the 4 markets\n",
    "\n",
    "# this is the markets bus\n",
    "b_el_market = Bus(label=mlabel(\"b_el_market\"), \n",
    "                   inputs={b_el_distr: Flow()}\n",
    "                    )\n",
    "\n",
    "#Prices in EUR/kWh (need to divide by 4 since these are 15 mins intervals)\n",
    "s_day_ahead = Sink(label=mlabel(\"s_da\"),inputs={\n",
    "            b_el_market: Flow(\n",
    "                variable_costs=-\n",
    "                market_data[\"day_ahead\"]/1000/4)})\n",
    "\n",
    "s_intraday = Sink(\n",
    "    label=mlabel(\"s_id\"),\n",
    "    inputs={\n",
    "        b_el_market: Flow(\n",
    "            variable_costs=-\n",
    "            market_data[\"intra_day\"]/1000/4)})\n",
    "\n",
    "s_f_base = Sink(\n",
    "    label=mlabel(\"s_fb\"),\n",
    "    inputs={\n",
    "        b_el_market: Flow(\n",
    "            variable_costs=-\n",
    "            market_data[\"future_base\"]/1000/4)})\n",
    "\n",
    "s_f_peak = Sink(\n",
    "    label=mlabel(\"s_fp\"),\n",
    "    inputs={\n",
    "        b_el_market: Flow(\n",
    "            variable_costs=-\n",
    "            market_data[\"future_peak\"]/1000/4)})\n",
    "\n",
    "energy_system.add(b_el_market, s_day_ahead, s_intraday, s_f_base,s_f_peak)\n"
   ]
  },
  {
   "cell_type": "code",
   "execution_count": null,
   "metadata": {},
   "outputs": [],
   "source": [
    "# Add the external energy sources and related buses\n",
    "\n",
    "# external gas\n",
    "b_gas = Bus(label=mlabel(\"b_gas\"))\n",
    "energy_system.add(b_gas)\n",
    "\n",
    "if \"gas\" in config.keys():\n",
    "    GAS_PRICE = 3.66  # EUR per mmBTU\n",
    "    # EUR/mmBTU / (293.07 kWh/mmBTU)\n",
    "    GAS_PRICE = GAS_PRICE / 293.07\n",
    "  \n",
    "    s_gas = Source(\n",
    "        label=mlabel('m_gas'),\n",
    "        outputs={\n",
    "            b_gas: Flow(\n",
    "                variable_costs=GAS_PRICE)})  # EUR/kWh\n",
    "\n",
    "    energy_system.add(s_gas)\n",
    "\n",
    "b_ext_th = Bus(label=mlabel(\"b_ext_th\"))\n",
    "energy_system.add(b_ext_th)\n",
    "if \"ext_grid\" in config.keys():\n",
    "    s_ext_th = Source(\n",
    "        label=mlabel('s_ext_th'),\n",
    "        outputs={b_ext_th: Flow()})  # EUR/kWh\n",
    "    energy_system.add(s_ext_th)\n",
    "\n",
    "b_el_grid = Bus(label=mlabel(\"b_el_grid\"), outputs={b_el_distr: Flow()})\n",
    "s_el_grid = Source(\n",
    "    label=mlabel(\"s_el_grid\"),\n",
    "    outputs={b_el_grid: Flow(\n",
    "        variable_costs=1000000)})  # EUR/kWh\n",
    "\n",
    "energy_system.add(b_el_grid,s_el_grid)\n"
   ]
  },
  {
   "cell_type": "code",
   "execution_count": null,
   "metadata": {},
   "outputs": [],
   "source": [
    "# add renewable energy buses and technologies\n",
    "\n",
    "b_el_renew = Bus(label=mlabel(\"b_el_renew\"))\n",
    "energy_system.add(b_el_renew)\n",
    "if \"PV\" in config.keys():\n",
    "    s_pv = Source(\n",
    "        label=mlabel(\"s_pv\"),\n",
    "        outputs={\n",
    "            b_el_renew: Flow(\n",
    "                nominal_value=1,\n",
    "                max=config[\"PV\"][\"profile\"])})\n",
    "    energy_system.add(s_pv)\n",
    "\n",
    "if \"Wind\" in config.keys():\n",
    "    s_wind = Source(\n",
    "            label=mlabel(\"s_wind\"),\n",
    "            outputs={\n",
    "                b_el_renew: Flow(\n",
    "                    nominal_value=1,\n",
    "                    max=config[\"Wind\"][\"profile\"])})\n",
    "    energy_system.add(s_wind)\n",
    "\n",
    "b_th_renew = Bus(label=mlabel(\"b_th_renew\"))\n",
    "energy_system.add(b_th_renew)\n",
    "\n",
    "if \"ST\" in config.keys():\n",
    "    s_st = Source(\n",
    "            label=mlabel(\"s_st\"),\n",
    "            outputs={\n",
    "                b_el_renew: Flow(\n",
    "                    nominal_value=1,\n",
    "                    max=config[\"ST\"][\"profile\"])})\n",
    "    energy_system.add(s_st)\n"
   ]
  },
  {
   "cell_type": "code",
   "execution_count": null,
   "metadata": {},
   "outputs": [],
   "source": [
    "# add combination technologies, like CHP\n",
    "b_el_prod = Bus(label=mlabel(\"b_el_prod\"), inputs={b_el_renew: Flow()}, outputs={b_el_distr: Flow()})\n",
    "b_th_prod = Bus(label=mlabel(\"b_th_prod\"),inputs={b_th_renew: Flow()}, outputs={b_th_distr: Flow()})\n",
    "energy_system.add(b_el_prod,b_th_prod)\n",
    "#add a boiler\n",
    "if \"boiler\" in config.keys():\n",
    "    t_boiler = Transformer(\n",
    "        label=mlabel('t_boiler'),\n",
    "        inputs={b_gas: Flow()},\n",
    "        outputs={\n",
    "            b_th_prod: Flow(nominal_value=config[\"boiler\"][\"p_kw\"])},\n",
    "        conversion_factors={\n",
    "            b_gas: 1,\n",
    "            b_th_prod: config[\"boiler\"][\"eff\"] })\n",
    "    energy_system.add(t_boiler)\n",
    "\n",
    "if \"chp\" in config.keys():\n",
    "    t_chp = Transformer(\n",
    "        label='t_chp',\n",
    "        inputs={b_gas: Flow()},\n",
    "        outputs={\n",
    "            b_el_prod: Flow(nominal_value=config[\"chp\"][\"p_kw_el\"]),\n",
    "            b_th_prod: Flow(nominal_value=config[\"chp\"][\"p_kw_th\"])},\n",
    "        conversion_factors={\n",
    "            b_el_prod: config[\"chp\"][\"eff_el\"],\n",
    "            b_th_prod: config[\"chp\"][\"eff_th\"]})\n",
    "    energy_system.add(t_chp)\n"
   ]
  },
  {
   "cell_type": "code",
   "execution_count": null,
   "metadata": {},
   "outputs": [],
   "source": [
    "if \"heat_pump\" in config.keys():\n",
    "    t_hp = Transformer(\n",
    "        label=mlabel('t_hp'),\n",
    "        inputs={b_el_prod: Flow()},\n",
    "        outputs={b_th_prod: Flow(nominal_value=config[\"heat_pump\"][\"p_kw_th\"])},\n",
    "        conversion_factors={b_th_prod: config[\"heat_pump\"][\"cop\"]})\n",
    "    energy_system.add(t_hp)\n"
   ]
  },
  {
   "cell_type": "code",
   "execution_count": null,
   "metadata": {},
   "outputs": [
    {
     "data": {
      "text/plain": [
       "dict_keys(['name', 'datetime', 'gas', 'boiler', 'heat_pump', 'heat_demand', 'PV', 'ST', 'Wind', 'el_demand', 'chp', 'electrolizer', 'heat_sto', 'batt_sto'])"
      ]
     },
     "execution_count": 27,
     "metadata": {},
     "output_type": "execute_result"
    }
   ],
   "source": []
  },
  {
   "cell_type": "code",
   "execution_count": null,
   "metadata": {},
   "outputs": [
    {
     "data": {
      "text/plain": [
       "{'capacity': 250.0,\n",
       " 'charge_cap': 200.0,\n",
       " 'discharge_cap': 200.0,\n",
       " 'charge_eff': 0.8625945649131268,\n",
       " 'disch_eff': 0.8587555559635626,\n",
       " 'loss_rate': 0.01}"
      ]
     },
     "execution_count": 29,
     "metadata": {},
     "output_type": "execute_result"
    }
   ],
   "source": []
  },
  {
   "cell_type": "code",
   "execution_count": null,
   "metadata": {},
   "outputs": [],
   "source": [
    "# att electric storage\n",
    "if \"batt_sto\" in config.keys():\n",
    "    batt_sto = GenericStorage(\n",
    "        label=mlabel('sto_batt'),\n",
    "        inputs={\n",
    "            b_el_prod: Flow(nominal_value=config[\"batt_sto\"][\"charge_cap\"])},\n",
    "        outputs={\n",
    "            b_el_prod: Flow(nominal_value=config[\"batt_sto\"][\"discharge_cap\"])},\n",
    "        loss_rate=config[\"batt_sto\"][\"loss_rate\"],\n",
    "        nominal_storage_capacity=config[\"batt_sto\"][\"capacity\"],\n",
    "        inflow_conversion_factor=config[\"batt_sto\"][\"charge_eff\"],\n",
    "        outflow_conversion_factor=config[\"batt_sto\"][\"disch_eff\"],\n",
    "        initial_storage_level=0,\n",
    "        balanced=False)\n",
    "    energy_system.add(batt_sto)\n",
    "\n",
    "\n"
   ]
  },
  {
   "cell_type": "code",
   "execution_count": null,
   "metadata": {},
   "outputs": [],
   "source": [
    "# This needs to be fixed to work with volumes and heat insulation properties\n",
    "# Will find a better formulation later\n",
    "bus_th_distr =  Bus(label=mlabel(\"b_th_distr\"), inputs={b_th_prod: Flow(),b_ext_th: Flow() }, outputs={b_d_th: Flow()})\n",
    "energy_system.add(bus_th_distr)\n",
    "if \"heat_sto\" in config.keys():\n",
    "    heat_sto = GenericStorage(\n",
    "        label=mlabel('sto_heat'),\n",
    "        inputs={\n",
    "            bus_th_distr: Flow(nominal_value=config[\"heat_sto\"][\"charge_cap\"])},\n",
    "        outputs={\n",
    "            bus_th_distr: Flow(nominal_value=config[\"heat_sto\"][\"discharge_cap\"])},\n",
    "        loss_rate=config[\"heat_sto\"][\"loss_rate\"],\n",
    "        nominal_storage_capacity=config[\"heat_sto\"][\"capacity\"],\n",
    "        inflow_conversion_factor=config[\"heat_sto\"][\"charge_eff\"],\n",
    "        outflow_conversion_factor=config[\"heat_sto\"][\"disch_eff\"],\n",
    "        initial_storage_level=0,\n",
    "        balanced=False)\n",
    "    energy_system.add(heat_sto)\n",
    "\n"
   ]
  },
  {
   "cell_type": "code",
   "execution_count": null,
   "metadata": {},
   "outputs": [
    {
     "name": "stderr",
     "output_type": "stream",
     "text": [
      "WARNING:pyomo.core:Element b_el_distr_enaq already exists in Set NODES; no action taken\n"
     ]
    },
    {
     "name": "stdout",
     "output_type": "stream",
     "text": [
      "WARNING: Element b_el_distr_enaq already exists in Set NODES; no action taken\n"
     ]
    },
    {
     "name": "stderr",
     "output_type": "stream",
     "text": [
      "ERROR:pyomo.core:Constructing component 'Bus.balance_build' from data=None failed:\n",
      "KeyError: 'Index \\'(\"<oemof.solph.network.bus.Bus: \\'b_d_distr_enaq\\'>\", \"<oemof.solph.network.bus.Bus: \\'b_d_th_enaq\\'>\", 0)\\' is not valid for indexed component \\'flow\\''\n"
     ]
    },
    {
     "name": "stdout",
     "output_type": "stream",
     "text": [
      "ERROR: Constructing component 'Bus.balance_build' from data=None failed:\n",
      "    KeyError: 'Index \\'(\"<oemof.solph.network.bus.Bus: \\'b_d_distr_enaq\\'>\",\n",
      "    \"<oemof.solph.network.bus.Bus: \\'b_d_th_enaq\\'>\", 0)\\' is not valid for\n",
      "    indexed component \\'flow\\''\n"
     ]
    },
    {
     "ename": "KeyError",
     "evalue": "'Index \\'(\"<oemof.solph.network.bus.Bus: \\'b_d_distr_enaq\\'>\", \"<oemof.solph.network.bus.Bus: \\'b_d_th_enaq\\'>\", 0)\\' is not valid for indexed component \\'flow\\''",
     "output_type": "error",
     "traceback": [
      "\u001b[1;31m---------------------------------------------------------------------------\u001b[0m",
      "\u001b[1;31mKeyError\u001b[0m                                  Traceback (most recent call last)",
      "\u001b[1;32md:\\Developer Workspace\\DistrictsNetwork\\model\\model_test.ipynb Zelle 16\u001b[0m in \u001b[0;36m<cell line: 9>\u001b[1;34m()\u001b[0m\n\u001b[0;32m      <a href='vscode-notebook-cell:/d%3A/Developer%20Workspace/DistrictsNetwork/model/model_test.ipynb#ch0000013?line=5'>6</a>\u001b[0m \u001b[39mfrom\u001b[39;00m \u001b[39moemof\u001b[39;00m\u001b[39m.\u001b[39;00m\u001b[39msolph\u001b[39;00m \u001b[39mimport\u001b[39;00m Model\n\u001b[0;32m      <a href='vscode-notebook-cell:/d%3A/Developer%20Workspace/DistrictsNetwork/model/model_test.ipynb#ch0000013?line=6'>7</a>\u001b[0m \u001b[39mimport\u001b[39;00m \u001b[39mpyomo\u001b[39;00m\u001b[39m.\u001b[39;00m\u001b[39menviron\u001b[39;00m \u001b[39mas\u001b[39;00m \u001b[39mpo\u001b[39;00m\n\u001b[1;32m----> <a href='vscode-notebook-cell:/d%3A/Developer%20Workspace/DistrictsNetwork/model/model_test.ipynb#ch0000013?line=8'>9</a>\u001b[0m model \u001b[39m=\u001b[39m Model(energy_system)\n",
      "File \u001b[1;32mc:\\Users\\vaca-admin\\Anaconda3\\envs\\districts\\lib\\site-packages\\oemof\\solph\\models.py:287\u001b[0m, in \u001b[0;36mModel.__init__\u001b[1;34m(self, energysystem, **kwargs)\u001b[0m\n\u001b[0;32m    286\u001b[0m \u001b[39mdef\u001b[39;00m \u001b[39m__init__\u001b[39m(\u001b[39mself\u001b[39m, energysystem, \u001b[39m*\u001b[39m\u001b[39m*\u001b[39mkwargs):\n\u001b[1;32m--> 287\u001b[0m     \u001b[39msuper\u001b[39m()\u001b[39m.\u001b[39m\u001b[39m__init__\u001b[39m(energysystem, \u001b[39m*\u001b[39m\u001b[39m*\u001b[39mkwargs)\n",
      "File \u001b[1;32mc:\\Users\\vaca-admin\\Anaconda3\\envs\\districts\\lib\\site-packages\\oemof\\solph\\models.py:113\u001b[0m, in \u001b[0;36mBaseModel.__init__\u001b[1;34m(self, energysystem, **kwargs)\u001b[0m\n\u001b[0;32m    110\u001b[0m \u001b[39mself\u001b[39m\u001b[39m.\u001b[39mrc \u001b[39m=\u001b[39m \u001b[39mNone\u001b[39;00m\n\u001b[0;32m    112\u001b[0m \u001b[39mif\u001b[39;00m kwargs\u001b[39m.\u001b[39mget(\u001b[39m\"\u001b[39m\u001b[39mauto_construct\u001b[39m\u001b[39m\"\u001b[39m, \u001b[39mTrue\u001b[39;00m):\n\u001b[1;32m--> 113\u001b[0m     \u001b[39mself\u001b[39;49m\u001b[39m.\u001b[39;49m_construct()\n",
      "File \u001b[1;32mc:\\Users\\vaca-admin\\Anaconda3\\envs\\districts\\lib\\site-packages\\oemof\\solph\\models.py:119\u001b[0m, in \u001b[0;36mBaseModel._construct\u001b[1;34m(self)\u001b[0m\n\u001b[0;32m    117\u001b[0m \u001b[39mself\u001b[39m\u001b[39m.\u001b[39m_add_parent_block_sets()\n\u001b[0;32m    118\u001b[0m \u001b[39mself\u001b[39m\u001b[39m.\u001b[39m_add_parent_block_variables()\n\u001b[1;32m--> 119\u001b[0m \u001b[39mself\u001b[39;49m\u001b[39m.\u001b[39;49m_add_child_blocks()\n\u001b[0;32m    120\u001b[0m \u001b[39mself\u001b[39m\u001b[39m.\u001b[39m_add_objective()\n",
      "File \u001b[1;32mc:\\Users\\vaca-admin\\Anaconda3\\envs\\districts\\lib\\site-packages\\oemof\\solph\\models.py:147\u001b[0m, in \u001b[0;36mBaseModel._add_child_blocks\u001b[1;34m(self)\u001b[0m\n\u001b[0;32m    144\u001b[0m \u001b[39mself\u001b[39m\u001b[39m.\u001b[39madd_component(\u001b[39mstr\u001b[39m(block), block)\n\u001b[0;32m    145\u001b[0m \u001b[39m# create constraints etc. related with block for all nodes\u001b[39;00m\n\u001b[0;32m    146\u001b[0m \u001b[39m# in the group\u001b[39;00m\n\u001b[1;32m--> 147\u001b[0m block\u001b[39m.\u001b[39;49m_create(group\u001b[39m=\u001b[39;49m\u001b[39mself\u001b[39;49m\u001b[39m.\u001b[39;49mes\u001b[39m.\u001b[39;49mgroups\u001b[39m.\u001b[39;49mget(group))\n",
      "File \u001b[1;32mc:\\Users\\vaca-admin\\Anaconda3\\envs\\districts\\lib\\site-packages\\oemof\\solph\\blocks\\bus.py:70\u001b[0m, in \u001b[0;36mBus._create\u001b[1;34m(self, group)\u001b[0m\n\u001b[0;32m     67\u001b[0m                 block\u001b[39m.\u001b[39mbalance\u001b[39m.\u001b[39madd((g, t), expr)\n\u001b[0;32m     69\u001b[0m \u001b[39mself\u001b[39m\u001b[39m.\u001b[39mbalance \u001b[39m=\u001b[39m Constraint(group, m\u001b[39m.\u001b[39mTIMESTEPS, noruleinit\u001b[39m=\u001b[39m\u001b[39mTrue\u001b[39;00m)\n\u001b[1;32m---> 70\u001b[0m \u001b[39mself\u001b[39;49m\u001b[39m.\u001b[39;49mbalance_build \u001b[39m=\u001b[39m BuildAction(rule\u001b[39m=\u001b[39m_busbalance_rule)\n",
      "File \u001b[1;32mc:\\Users\\vaca-admin\\Anaconda3\\envs\\districts\\lib\\site-packages\\pyomo\\core\\base\\block.py:543\u001b[0m, in \u001b[0;36m_BlockData.__setattr__\u001b[1;34m(self, name, val)\u001b[0m\n\u001b[0;32m    538\u001b[0m \u001b[39mif\u001b[39;00m name \u001b[39mnot\u001b[39;00m \u001b[39min\u001b[39;00m \u001b[39mself\u001b[39m\u001b[39m.\u001b[39m\u001b[39m__dict__\u001b[39m:\n\u001b[0;32m    539\u001b[0m     \u001b[39mif\u001b[39;00m \u001b[39misinstance\u001b[39m(val, Component):\n\u001b[0;32m    540\u001b[0m         \u001b[39m#\u001b[39;00m\n\u001b[0;32m    541\u001b[0m         \u001b[39m# Pyomo components are added with the add_component method.\u001b[39;00m\n\u001b[0;32m    542\u001b[0m         \u001b[39m#\u001b[39;00m\n\u001b[1;32m--> 543\u001b[0m         \u001b[39mself\u001b[39;49m\u001b[39m.\u001b[39;49madd_component(name, val)\n\u001b[0;32m    544\u001b[0m     \u001b[39melse\u001b[39;00m:\n\u001b[0;32m    545\u001b[0m         \u001b[39m#\u001b[39;00m\n\u001b[0;32m    546\u001b[0m         \u001b[39m# Other Python objects are added with the standard __setattr__\u001b[39;00m\n\u001b[0;32m    547\u001b[0m         \u001b[39m# method.\u001b[39;00m\n\u001b[0;32m    548\u001b[0m         \u001b[39m#\u001b[39;00m\n\u001b[0;32m    549\u001b[0m         \u001b[39msuper\u001b[39m(_BlockData, \u001b[39mself\u001b[39m)\u001b[39m.\u001b[39m\u001b[39m__setattr__\u001b[39m(name, val)\n",
      "File \u001b[1;32mc:\\Users\\vaca-admin\\Anaconda3\\envs\\districts\\lib\\site-packages\\pyomo\\core\\base\\block.py:1087\u001b[0m, in \u001b[0;36m_BlockData.add_component\u001b[1;34m(self, name, val)\u001b[0m\n\u001b[0;32m   1083\u001b[0m     logger\u001b[39m.\u001b[39mdebug(\u001b[39m\"\u001b[39m\u001b[39mConstructing \u001b[39m\u001b[39m%s\u001b[39;00m\u001b[39m \u001b[39m\u001b[39m'\u001b[39m\u001b[39m%s\u001b[39;00m\u001b[39m'\u001b[39m\u001b[39m on \u001b[39m\u001b[39m%s\u001b[39;00m\u001b[39m from data=\u001b[39m\u001b[39m%s\u001b[39;00m\u001b[39m\"\u001b[39m,\n\u001b[0;32m   1084\u001b[0m                  val\u001b[39m.\u001b[39m\u001b[39m__class__\u001b[39m\u001b[39m.\u001b[39m\u001b[39m__name__\u001b[39m, val\u001b[39m.\u001b[39mname,\n\u001b[0;32m   1085\u001b[0m                  _blockName, \u001b[39mstr\u001b[39m(data))\n\u001b[0;32m   1086\u001b[0m \u001b[39mtry\u001b[39;00m:\n\u001b[1;32m-> 1087\u001b[0m     val\u001b[39m.\u001b[39;49mconstruct(data)\n\u001b[0;32m   1088\u001b[0m \u001b[39mexcept\u001b[39;00m:\n\u001b[0;32m   1089\u001b[0m     err \u001b[39m=\u001b[39m sys\u001b[39m.\u001b[39mexc_info()[\u001b[39m1\u001b[39m]\n",
      "File \u001b[1;32mc:\\Users\\vaca-admin\\Anaconda3\\envs\\districts\\lib\\site-packages\\pyomo\\core\\base\\action.py:61\u001b[0m, in \u001b[0;36mBuildAction.construct\u001b[1;34m(self, data)\u001b[0m\n\u001b[0;32m     58\u001b[0m \u001b[39m#\u001b[39;00m\n\u001b[0;32m     59\u001b[0m \u001b[39mif\u001b[39;00m \u001b[39mnot\u001b[39;00m \u001b[39mself\u001b[39m\u001b[39m.\u001b[39mis_indexed():\n\u001b[0;32m     60\u001b[0m     \u001b[39m# Scalar component\u001b[39;00m\n\u001b[1;32m---> 61\u001b[0m     \u001b[39mself\u001b[39;49m\u001b[39m.\u001b[39;49m_rule(\u001b[39mself\u001b[39;49m\u001b[39m.\u001b[39;49m_parent())\n\u001b[0;32m     62\u001b[0m \u001b[39melse\u001b[39;00m:\n\u001b[0;32m     63\u001b[0m     \u001b[39m# Indexed component\u001b[39;00m\n\u001b[0;32m     64\u001b[0m     \u001b[39mfor\u001b[39;00m index \u001b[39min\u001b[39;00m \u001b[39mself\u001b[39m\u001b[39m.\u001b[39m_index:\n",
      "File \u001b[1;32mc:\\Users\\vaca-admin\\Anaconda3\\envs\\districts\\lib\\site-packages\\oemof\\solph\\blocks\\bus.py:62\u001b[0m, in \u001b[0;36mBus._create.<locals>._busbalance_rule\u001b[1;34m(block)\u001b[0m\n\u001b[0;32m     60\u001b[0m \u001b[39mfor\u001b[39;00m t \u001b[39min\u001b[39;00m m\u001b[39m.\u001b[39mTIMESTEPS:\n\u001b[0;32m     61\u001b[0m     \u001b[39mfor\u001b[39;00m g \u001b[39min\u001b[39;00m group:\n\u001b[1;32m---> 62\u001b[0m         lhs \u001b[39m=\u001b[39m \u001b[39msum\u001b[39;49m(m\u001b[39m.\u001b[39;49mflow[i, g, t] \u001b[39mfor\u001b[39;49;00m i \u001b[39min\u001b[39;49;00m ins[g])\n\u001b[0;32m     63\u001b[0m         rhs \u001b[39m=\u001b[39m \u001b[39msum\u001b[39m(m\u001b[39m.\u001b[39mflow[g, o, t] \u001b[39mfor\u001b[39;00m o \u001b[39min\u001b[39;00m outs[g])\n\u001b[0;32m     64\u001b[0m         expr \u001b[39m=\u001b[39m lhs \u001b[39m==\u001b[39m rhs\n",
      "File \u001b[1;32mc:\\Users\\vaca-admin\\Anaconda3\\envs\\districts\\lib\\site-packages\\oemof\\solph\\blocks\\bus.py:62\u001b[0m, in \u001b[0;36m<genexpr>\u001b[1;34m(.0)\u001b[0m\n\u001b[0;32m     60\u001b[0m \u001b[39mfor\u001b[39;00m t \u001b[39min\u001b[39;00m m\u001b[39m.\u001b[39mTIMESTEPS:\n\u001b[0;32m     61\u001b[0m     \u001b[39mfor\u001b[39;00m g \u001b[39min\u001b[39;00m group:\n\u001b[1;32m---> 62\u001b[0m         lhs \u001b[39m=\u001b[39m \u001b[39msum\u001b[39m(m\u001b[39m.\u001b[39;49mflow[i, g, t] \u001b[39mfor\u001b[39;00m i \u001b[39min\u001b[39;00m ins[g])\n\u001b[0;32m     63\u001b[0m         rhs \u001b[39m=\u001b[39m \u001b[39msum\u001b[39m(m\u001b[39m.\u001b[39mflow[g, o, t] \u001b[39mfor\u001b[39;00m o \u001b[39min\u001b[39;00m outs[g])\n\u001b[0;32m     64\u001b[0m         expr \u001b[39m=\u001b[39m lhs \u001b[39m==\u001b[39m rhs\n",
      "File \u001b[1;32mc:\\Users\\vaca-admin\\Anaconda3\\envs\\districts\\lib\\site-packages\\pyomo\\core\\base\\indexed_component.py:402\u001b[0m, in \u001b[0;36mIndexedComponent.__getitem__\u001b[1;34m(self, index)\u001b[0m\n\u001b[0;32m    400\u001b[0m \u001b[39mif\u001b[39;00m index\u001b[39m.\u001b[39m\u001b[39m__class__\u001b[39m \u001b[39mis\u001b[39;00m EXPR\u001b[39m.\u001b[39mGetItemExpression:\n\u001b[0;32m    401\u001b[0m     \u001b[39mreturn\u001b[39;00m index\n\u001b[1;32m--> 402\u001b[0m validated_index \u001b[39m=\u001b[39m \u001b[39mself\u001b[39;49m\u001b[39m.\u001b[39;49m_validate_index(index)\n\u001b[0;32m    403\u001b[0m \u001b[39mif\u001b[39;00m validated_index \u001b[39mis\u001b[39;00m \u001b[39mnot\u001b[39;00m index:\n\u001b[0;32m    404\u001b[0m     index \u001b[39m=\u001b[39m validated_index\n",
      "File \u001b[1;32mc:\\Users\\vaca-admin\\Anaconda3\\envs\\districts\\lib\\site-packages\\pyomo\\core\\base\\indexed_component.py:561\u001b[0m, in \u001b[0;36mIndexedComponent._validate_index\u001b[1;34m(self, idx)\u001b[0m\n\u001b[0;32m    555\u001b[0m     \u001b[39mraise\u001b[39;00m \u001b[39mKeyError\u001b[39;00m(\n\u001b[0;32m    556\u001b[0m         \u001b[39m\"\u001b[39m\u001b[39mCannot treat the scalar component \u001b[39m\u001b[39m'\u001b[39m\u001b[39m%s\u001b[39;00m\u001b[39m'\u001b[39m\u001b[39m \u001b[39m\u001b[39m\"\u001b[39m\n\u001b[0;32m    557\u001b[0m         \u001b[39m\"\u001b[39m\u001b[39mas an indexed component\u001b[39m\u001b[39m\"\u001b[39m \u001b[39m%\u001b[39m ( \u001b[39mself\u001b[39m\u001b[39m.\u001b[39mname, ))\n\u001b[0;32m    558\u001b[0m \u001b[39m#\u001b[39;00m\n\u001b[0;32m    559\u001b[0m \u001b[39m# Raise an exception\u001b[39;00m\n\u001b[0;32m    560\u001b[0m \u001b[39m#\u001b[39;00m\n\u001b[1;32m--> 561\u001b[0m \u001b[39mraise\u001b[39;00m \u001b[39mKeyError\u001b[39;00m(\n\u001b[0;32m    562\u001b[0m     \u001b[39m\"\u001b[39m\u001b[39mIndex \u001b[39m\u001b[39m'\u001b[39m\u001b[39m%s\u001b[39;00m\u001b[39m'\u001b[39m\u001b[39m is not valid for indexed component \u001b[39m\u001b[39m'\u001b[39m\u001b[39m%s\u001b[39;00m\u001b[39m'\u001b[39m\u001b[39m\"\u001b[39m\n\u001b[0;32m    563\u001b[0m     \u001b[39m%\u001b[39m ( idx, \u001b[39mself\u001b[39m\u001b[39m.\u001b[39mname, ))\n",
      "\u001b[1;31mKeyError\u001b[0m: 'Index \\'(\"<oemof.solph.network.bus.Bus: \\'b_d_distr_enaq\\'>\", \"<oemof.solph.network.bus.Bus: \\'b_d_th_enaq\\'>\", 0)\\' is not valid for indexed component \\'flow\\''"
     ]
    }
   ],
   "source": [
    "'''\n",
    "Build a pyomo Model and add constraints for the proper sinks\n",
    ":param energy_system: Energy System with the appropiate markets.\n",
    "'''\n",
    "# Build model\n",
    "from oemof.solph import Model\n",
    "import pyomo.environ as po\n",
    "\n",
    "model = Model(energy_system)\n"
   ]
  },
  {
   "cell_type": "code",
   "execution_count": null,
   "metadata": {},
   "outputs": [],
   "source": [
    "\n",
    "# Before anything I need the shape of the future_peak in the shape of 1\n",
    "# and 0\n",
    "\n",
    "# electric bus\n",
    "bus_el_out = [n for n in energy_system.nodes if n.label == label(\"b_el_market\")][0]\n",
    "# check output\n",
    "key = [k for k in bus_el_out.outputs.keys() if \"s_fp\" in str(k)][0]\n",
    "future_base_flow_price = bus_el_out.outputs[key].variable_costs\n",
    "\n",
    "# Add Market Constraints\n",
    "\n",
    "# Constraint for the Day Ahead Market\n",
    "# i = inflow\n",
    "# o = outflow\n",
    "flows = {}\n",
    "for (i, o) in model.flows:\n",
    "    if str(i) == label(\"b_el_market\") and str(o) == \"s_da\":\n",
    "        flows[(i, o)] = model.flows[i, o]\n",
    "\n",
    "for (i, o) in flows:\n",
    "    for t in model.TIMESTEPS:\n",
    "        if t % 4 != 0:\n",
    "            # ToDo: Change name to day_ahead\n",
    "            limit_name = \"day_ahead_{}={}\".format(t, t - t % 4)\n",
    "            setattr(model, limit_name, po.Constraint(\n",
    "                rule=(model.flow[i, o, t] - model.flow[i, o, t - t % 4] == 0)))\n",
    "\n",
    "# Constraint for the Future Peak\n",
    "flows = {}\n",
    "\n",
    "for (i, o) in model.flows:\n",
    "    if str(i) == label(\"b_el_market\") and str(o) == \"s_fb\":\n",
    "        flows[(i, o)] = model.flows[i, o]\n",
    "\n",
    "for (i, o) in flows:\n",
    "    for t in model.TIMESTEPS:\n",
    "        if t != 0:\n",
    "            limit_name = \"future_base_{}={}\".format(t, 0)\n",
    "            setattr(model, limit_name, po.Constraint(\n",
    "                rule=(model.flow[i, o, t] - model.flow[i, o, 0] == 0)))\n",
    "\n",
    "# Constraint for the Future Base\n",
    "# what are the time steps for decision making?\n",
    "# I rather look at the shape of the cost of the flow to see\n",
    "# if the price is 0, then constraint is 0\n",
    "# if price is not 0, then the price is equal\n",
    "\n",
    "flows = {}\n",
    "for (i, o) in model.flows:\n",
    "    if str(i) == label(\"b_el_market\") and str(o) == \"s_fp\":\n",
    "        flows[(i, o)] = model.flows[i, o]\n",
    "\n",
    "times_future_base_constraint = [t for t in model.TIMESTEPS if abs(\n",
    "    future_base_flow_price[t]) > 0.001]  # a small tolerance there\n",
    "\n",
    "for time_step in times_future_base_constraint[1:]:  # for each day\n",
    "    # range = 12*4 #time steps for the constraint, 13 hrs after 8 am, until\n",
    "    # 20:45\n",
    "    # the last bit of the 13h is not included\n",
    "    t0 = times_future_base_constraint[0]\n",
    "    for (i, o) in flows:\n",
    "        limit_name = \"future_peak_{}={}\".format(time_step, t0)\n",
    "        setattr(model, limit_name, po.Constraint(\n",
    "            rule=(model.flow[i, o, t0] - model.flow[i, o, time_step] == 0)))\n",
    "\n",
    "times_fb_null = [\n",
    "    t for t in model.TIMESTEPS if t not in times_future_base_constraint]\n",
    "for t in times_fb_null:\n",
    "    limit_name = \"future_peak_null_{}\".format(t)\n",
    "    setattr(\n",
    "        model,\n",
    "        limit_name,\n",
    "        po.Constraint(\n",
    "            rule=(\n",
    "                model.flow[i, o, t] == 0)))"
   ]
  },
  {
   "cell_type": "code",
   "execution_count": null,
   "metadata": {},
   "outputs": [],
   "source": []
  }
 ],
 "metadata": {
  "kernelspec": {
   "display_name": "Python 3.9.12 ('districts')",
   "language": "python",
   "name": "python3"
  },
  "language_info": {
   "codemirror_mode": {
    "name": "ipython",
    "version": 3
   },
   "file_extension": ".py",
   "mimetype": "text/x-python",
   "name": "python",
   "nbconvert_exporter": "python",
   "pygments_lexer": "ipython3",
   "version": "3.9.12"
  },
  "orig_nbformat": 4,
  "vscode": {
   "interpreter": {
    "hash": "893b7742808ed49e17e31481019e0520aeae6639303de39702aad5deb1377c7f"
   }
  }
 },
 "nbformat": 4,
 "nbformat_minor": 2
}
